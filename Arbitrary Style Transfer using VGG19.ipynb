{
  "cells": [
    {
      "cell_type": "markdown",
      "metadata": {
        "id": "1RrCH6wPg2CN"
      },
      "source": [
        "# Neural Style Transfer using GANs"
      ]
    },
    {
      "cell_type": "markdown",
      "metadata": {
        "id": "HfMLrzigk-EO"
      },
      "source": [
        "### Installing and Importing required libraries"
      ]
    },
    {
      "cell_type": "code",
      "execution_count": 22,
      "metadata": {
        "id": "y9ZZ7Od2g3GF"
      },
      "outputs": [],
      "source": [
        "#Importing required libraries\n",
        "import keras\n",
        "import numpy as np\n",
        "from keras import Model\n",
        "import tensorflow as tf\n",
        "from datetime import datetime\n",
        "from keras.optimizers import SGD\n",
        "from keras.utils import plot_model\n",
        "from keras.preprocessing import image\n",
        "from tensorflow.keras.applications import vgg19"
      ]
    },
    {
      "cell_type": "markdown",
      "metadata": {
        "id": "a5LvfE1lrl1C"
      },
      "source": [
        "## 1. Utilizing VGG19 to create style transfer algorithm"
      ]
    },
    {
      "cell_type": "markdown",
      "metadata": {
        "id": "XHqq9AlbpDhm"
      },
      "source": [
        "### Style Loss Function"
      ]
    },
    {
      "cell_type": "code",
      "execution_count": 23,
      "metadata": {
        "id": "C6IFcU79mhgJ"
      },
      "outputs": [],
      "source": [
        "#Creating a Gram Matrix\n",
        "def gram_matrix(x):\n",
        "    x = tf.transpose(x, (2, 0, 1))\n",
        "    features = tf.reshape(x, (tf.shape(x)[0], -1))\n",
        "    gram = tf.matmul(features, tf.transpose(features))\n",
        "    return gram\n",
        "\n",
        "#Creating the loss function by using the Gram Matrix between the result and input image\n",
        "def style_loss(style, combination):\n",
        "    S = gram_matrix(style)\n",
        "    C = gram_matrix(combination)\n",
        "    channels = 3\n",
        "    size = img_nrows * img_ncols\n",
        "    return tf.reduce_sum(tf.square(S - C)) / (4.0 * (channels ** 2) * (size ** 2))"
      ]
    },
    {
      "cell_type": "markdown",
      "metadata": {
        "id": "_cqCoegmpHnt"
      },
      "source": [
        "### Content Loss Function"
      ]
    },
    {
      "cell_type": "code",
      "execution_count": 24,
      "metadata": {
        "id": "3dGZwpSrpHxd"
      },
      "outputs": [],
      "source": [
        "#Creating the loss function\n",
        "def content_loss(base, combination):\n",
        "    return tf.reduce_sum(tf.square(combination - base))"
      ]
    },
    {
      "cell_type": "markdown",
      "metadata": {
        "id": "OSqIPNQ2rYzO"
      },
      "source": [
        "### Neural Style Transfer"
      ]
    },
    {
      "cell_type": "markdown",
      "metadata": {
        "id": "PHu2vhj6lozT"
      },
      "source": [
        "Loading the pretrained VGG19 model"
      ]
    },
    {
      "cell_type": "code",
      "execution_count": null,
      "metadata": {
        "id": "C7mRSNoarbyL"
      },
      "outputs": [],
      "source": [
        "#Loading the VGG19 model that has been trained on Imagenet\n",
        "model = vgg19.VGG19(weights = \"imagenet\", include_top = False)\n",
        "\n",
        "#Checking model layers and # of parameters\n",
        "model.summary()"
      ]
    },
    {
      "cell_type": "markdown",
      "metadata": {
        "id": "YsYbHywvs_9p"
      },
      "source": [
        "Calculating the Loss Function"
      ]
    },
    {
      "cell_type": "code",
      "execution_count": 26,
      "metadata": {
        "id": "a8_sZ3-2tAC5"
      },
      "outputs": [],
      "source": [
        "#Extracting values of specific layers\n",
        "outputs_dict = dict([(layer.name, layer.output) for layer in model.layers])\n",
        "feature_extractor = Model(inputs = model.inputs, outputs = outputs_dict)\n",
        "\n",
        "#Defining the style layers to extract\n",
        "style_layers = [ \"block1_conv1\", \"block2_conv1\", \"block3_conv1\", \"block4_conv1\", \"block5_conv1\",]\n",
        "\n",
        "#Defining the content layer to extract\n",
        "content_layer = \"block5_conv2\"\n",
        "\n",
        "#Assigning weights for content and style loss functions\n",
        "content_weight = 2.5e-7\n",
        "style_weight = 1e-6\n",
        "\n",
        "#Creating a function to calculate the total loss\n",
        "def loss_function(combination_image, base_image, style_reference_image):\n",
        "\n",
        "    #Combining all the images in the same tensor\n",
        "    input_tensor = tf.concat([base_image, style_reference_image, combination_image], axis = 0)\n",
        "\n",
        "    #Extracting the features of images\n",
        "    features = feature_extractor(input_tensor)\n",
        "\n",
        "    #Initializing the loss variable as scalar (zero tensor)\n",
        "    loss = tf.zeros(shape = ())\n",
        "\n",
        "    #Extracting the content features - images with similar content will have the same deep layers\n",
        "    layer_features = features[content_layer]\n",
        "    base_image_features = layer_features[0, :, :, :]\n",
        "    combination_features = layer_features[2, :, :, :]\n",
        "\n",
        "    #Calculating the content loss\n",
        "    loss = loss + content_weight * content_loss(base_image_features, combination_features)\n",
        "    \n",
        "    #Extracting the style features and adding style loss to overall loss\n",
        "    for layer_name in style_layers:\n",
        "        layer_features = features[layer_name]\n",
        "        style_reference_features = layer_features[1, :, :, :]\n",
        "        combination_features = layer_features[2, :, :, :]\n",
        "        sl = style_loss(style_reference_features, combination_features)\n",
        "        loss = loss + (style_weight / len(style_layers)) * sl\n",
        "\n",
        "    return loss"
      ]
    },
    {
      "cell_type": "markdown",
      "metadata": {
        "id": "WB5_aiF8tc7_"
      },
      "source": [
        "Calculating the gradient"
      ]
    },
    {
      "cell_type": "code",
      "execution_count": 27,
      "metadata": {
        "id": "RnRfr6BctdcH"
      },
      "outputs": [],
      "source": [
        "#Converting the below function to a Tensorflow graph function - Improved performance\n",
        "#Function to compute gradients of loss with respect to combination_image\n",
        "@tf.function\n",
        "def compute_loss_and_grads(combination_image, base_image, style_reference_image):\n",
        "    with tf.GradientTape() as tape:\n",
        "        loss = loss_function(combination_image, base_image, style_reference_image)\n",
        "    grads = tape.gradient(loss, combination_image)\n",
        "    return loss, grads"
      ]
    },
    {
      "cell_type": "markdown",
      "metadata": {
        "id": "fAJVXluEtru8"
      },
      "source": [
        "Pre-processing the image"
      ]
    },
    {
      "cell_type": "code",
      "execution_count": 28,
      "metadata": {
        "id": "xRdxyZSltr0m"
      },
      "outputs": [],
      "source": [
        "#Creating a function that uses existing preprocessing techniques from vgg19\n",
        "#Loading, Resizing and Formatting an image into appropriate tesnor\n",
        "def preprocess_image(image_path):\n",
        "\n",
        "  #Loading the image and resizing it\n",
        "  img = tf.keras.utils.load_img(image_path, target_size = (img_nrows, img_ncols))\n",
        "\n",
        "  #Converting image to array\n",
        "  img = tf.keras.utils.img_to_array(img)\n",
        "\n",
        "  #Matching the batch dimension\n",
        "  img = np.expand_dims(img, axis = 0)\n",
        "\n",
        "  img = vgg19.preprocess_input(img)\n",
        "\n",
        "  return tf.convert_to_tensor(img)"
      ]
    },
    {
      "cell_type": "markdown",
      "metadata": {
        "id": "2QETgQ7at2Oy"
      },
      "source": [
        "De-processing the image"
      ]
    },
    {
      "cell_type": "code",
      "execution_count": 29,
      "metadata": {
        "id": "oNgcVtJft2Uo"
      },
      "outputs": [],
      "source": [
        "#Defining a function to convert image tensor to original image format\n",
        "def deprocess_image(x):\n",
        "\n",
        "    #Converting the tensor to an array\n",
        "    x = x.reshape((img_nrows, img_ncols, 3))\n",
        "\n",
        "    #Adding mean values that were subtracted during pre-processing - default for imagenet trained VGG models\n",
        "    x[:, :, 0] = x[:, :, 0] + 103.939\n",
        "    x[:, :, 1] = x[:, :, 1] + 116.779\n",
        "    x[:, :, 2] = x[:, :, 2] + 123.68\n",
        "\n",
        "    #Converting from BGR to RGB\n",
        "    x = x[:, :, ::-1]\n",
        "\n",
        "    #Ensuring range of pixel values\n",
        "    x = np.clip(x, 0, 255).astype(\"uint8\")\n",
        "\n",
        "    return x"
      ]
    },
    {
      "cell_type": "markdown",
      "metadata": {
        "id": "dLRyT-pJt70x"
      },
      "source": [
        "Saving the generated image"
      ]
    },
    {
      "cell_type": "code",
      "execution_count": 30,
      "metadata": {
        "id": "1DcyfJ3Ht76u"
      },
      "outputs": [],
      "source": [
        "#Defining a function to save the resulting image \n",
        "def result_saver(iteration):\n",
        "  \n",
        "  image_name = \"generated_image_iteration_\" + str(iteration) + '.png'\n",
        "\n",
        "  #Saving the resulting image\n",
        "  img = deprocess_image(combination_image.numpy())\n",
        "  tf.keras.utils.save_img(image_name, img)"
      ]
    },
    {
      "cell_type": "markdown",
      "metadata": {
        "id": "YyOQkAdhuAkk"
      },
      "source": [
        "Training the model"
      ]
    },
    {
      "cell_type": "code",
      "execution_count": null,
      "metadata": {
        "id": "RXLwwTj8uAox"
      },
      "outputs": [],
      "source": [
        "#Defining content and style image paths\n",
        "content_image_path = '/content/content.jpg'\n",
        "style_image_path = '/content/style.jpg'\n",
        "\n",
        "#Defining the dimensions of output image\n",
        "width, height = tf.keras.utils.load_img(content_image_path).size\n",
        "img_nrows = 400\n",
        "img_ncols = int(width * img_nrows / height)\n",
        "\n",
        "#Defining the SGD optimizer with learning rate and decay rate\n",
        "optimizer = SGD(tf.keras.optimizers.schedules.ExponentialDecay(initial_learning_rate = 100.0, decay_steps = 100, decay_rate = 0.96))\n",
        "\n",
        "#Preprocessing the content and style images\n",
        "base_image = preprocess_image(content_image_path)\n",
        "style_reference_image = preprocess_image(style_image_path)\n",
        "\n",
        "#Initializing the resulting image and preprocessing it\n",
        "combination_image = tf.Variable(preprocess_image(content_image_path))\n",
        "\n",
        "#Defining the number of iterations for optimization\n",
        "iterations = 10000\n",
        "\n",
        "#Defining the optimization loop\n",
        "for i in range(1, iterations + 1):\n",
        "\n",
        "  #Computing loss and gradients\n",
        "  loss, grads = compute_loss_and_grads(combination_image, base_image, style_reference_image)\n",
        "\n",
        "  #Applying gradients to the result using optimizer\n",
        "  optimizer.apply_gradients([(grads, combination_image)])\n",
        "  \n",
        "  #Prining the Iteration, Loss and Saving the resulting image - for every 5000 transactions\n",
        "  if i % 1000 == 0:\n",
        "      print(\"Iteration %d: loss = %.2f\" % (i, loss))\n",
        "      result_saver(i)"
      ]
    }
  ],
  "metadata": {
    "accelerator": "GPU",
    "colab": {
      "machine_shape": "hm",
      "provenance": [],
      "gpuType": "A100"
    },
    "kernelspec": {
      "display_name": "Python 3",
      "name": "python3"
    },
    "language_info": {
      "name": "python"
    }
  },
  "nbformat": 4,
  "nbformat_minor": 0
}